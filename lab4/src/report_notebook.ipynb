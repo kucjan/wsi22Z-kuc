{
 "cells": [
  {
   "cell_type": "markdown",
   "metadata": {},
   "source": [
    "Raport z laboratorium nr 4"
   ]
  },
  {
   "cell_type": "code",
   "execution_count": 1,
   "metadata": {},
   "outputs": [],
   "source": [
    "from my_solver import ID3Tree\n",
    "from process_data import process_data, dataset_split\n",
    "from statistics import mean\n",
    "from copy import deepcopy\n",
    "from math import inf\n",
    "import pprint\n",
    "import matplotlib.pyplot as plt"
   ]
  },
  {
   "cell_type": "code",
   "execution_count": 2,
   "metadata": {},
   "outputs": [],
   "source": [
    "# give an absolute path to file with dataset\n",
    "FILENAME = '/Users/janekkuc/Desktop/PW/Sem7/WSI/wsi22Z-kuc/lab4/data/cardio_train.csv'"
   ]
  },
  {
   "cell_type": "code",
   "execution_count": 3,
   "metadata": {},
   "outputs": [],
   "source": [
    "non_discrete_attrs = {'age': [-inf, 7300, 10950, 14600, 18250, 20075, 21900, 23725, 25550, inf],\n",
    "                    'weight': [-inf, 50, 70, 90, 110, 130, inf],\n",
    "                    'height': [-inf, 120, 150, 170, 190, 205, inf],\n",
    "                    'ap_hi': [-inf, 120, 130, 140, 160, 180, inf],\n",
    "                    'ap_lo': [-inf, 80, 85, 90, 100, 110, inf]}"
   ]
  },
  {
   "cell_type": "code",
   "execution_count": 4,
   "metadata": {},
   "outputs": [],
   "source": [
    "label = 'cardio'"
   ]
  },
  {
   "cell_type": "code",
   "execution_count": 5,
   "metadata": {},
   "outputs": [
    {
     "name": "stdout",
     "output_type": "stream",
     "text": [
      "             Missing Values  % of Total Values\n",
      "age                       0                0.0\n",
      "gender                    0                0.0\n",
      "height                    0                0.0\n",
      "weight                    0                0.0\n",
      "ap_hi                     0                0.0\n",
      "ap_lo                     0                0.0\n",
      "cholesterol               0                0.0\n",
      "gluc                      0                0.0\n",
      "smoke                     0                0.0\n",
      "alco                      0                0.0\n",
      "active                    0                0.0\n",
      "cardio                    0                0.0\n"
     ]
    }
   ],
   "source": [
    "dataset = process_data(FILENAME, non_discrete_attrs)"
   ]
  },
  {
   "cell_type": "code",
   "execution_count": 6,
   "metadata": {},
   "outputs": [],
   "source": [
    "DEPTHS = range(0,12)\n",
    "SPLITS = 3"
   ]
  },
  {
   "cell_type": "code",
   "execution_count": 7,
   "metadata": {},
   "outputs": [],
   "source": [
    "save_params = []\n",
    "mean_accs_train = []\n",
    "mean_accs_valid = []"
   ]
  },
  {
   "cell_type": "code",
   "execution_count": 8,
   "metadata": {},
   "outputs": [
    {
     "name": "stdout",
     "output_type": "stream",
     "text": [
      "Split nr: 0, depth=0:\n",
      "Accuracy train: 0.7136844636844637\n",
      "Accuracy valid: 0.7162337662337662\n",
      "------------\n",
      "Split nr: 0, depth=1:\n",
      "Accuracy train: 0.7136844636844637\n",
      "Accuracy valid: 0.7162337662337662\n",
      "------------\n",
      "Split nr: 0, depth=2:\n",
      "Accuracy train: 0.7197691197691197\n",
      "Accuracy valid: 0.7198412698412698\n",
      "------------\n",
      "Split nr: 0, depth=3:\n",
      "Accuracy train: 0.7198653198653199\n",
      "Accuracy valid: 0.7196969696969697\n",
      "------------\n",
      "Split nr: 0, depth=4:\n",
      "Accuracy train: 0.7231842231842232\n",
      "Accuracy valid: 0.7192640692640693\n",
      "------------\n",
      "Split nr: 0, depth=5:\n",
      "Accuracy train: 0.7261904761904762\n",
      "Accuracy valid: 0.71991341991342\n",
      "------------\n",
      "Split nr: 0, depth=6:\n",
      "Accuracy train: 0.7323713323713323\n",
      "Accuracy valid: 0.7259740259740259\n",
      "------------\n",
      "Split nr: 0, depth=7:\n",
      "Accuracy train: 0.7341750841750841\n",
      "Accuracy valid: 0.7284992784992785\n",
      "------------\n",
      "Split nr: 0, depth=8:\n"
     ]
    },
    {
     "ename": "KeyboardInterrupt",
     "evalue": "",
     "output_type": "error",
     "traceback": [
      "\u001b[0;31m---------------------------------------------------------------------------\u001b[0m",
      "\u001b[0;31mKeyboardInterrupt\u001b[0m                         Traceback (most recent call last)",
      "Cell \u001b[0;32mIn[8], line 9\u001b[0m\n\u001b[1;32m      6\u001b[0m \u001b[39mprint\u001b[39m(\u001b[39mf\u001b[39m\u001b[39m'\u001b[39m\u001b[39mSplit nr: \u001b[39m\u001b[39m{\u001b[39;00mi\u001b[39m}\u001b[39;00m\u001b[39m, depth=\u001b[39m\u001b[39m{\u001b[39;00mdepth\u001b[39m}\u001b[39;00m\u001b[39m:\u001b[39m\u001b[39m'\u001b[39m)\n\u001b[1;32m      7\u001b[0m decision_tree \u001b[39m=\u001b[39m ID3Tree(max_depth\u001b[39m=\u001b[39mdepth)\n\u001b[0;32m----> 9\u001b[0m decision_tree\u001b[39m.\u001b[39;49mfit(X\u001b[39m=\u001b[39;49mtrain_data_X, y\u001b[39m=\u001b[39;49mtrain_data_y, label\u001b[39m=\u001b[39;49mlabel)\n\u001b[1;32m     11\u001b[0m accuracy_train \u001b[39m=\u001b[39m decision_tree\u001b[39m.\u001b[39mevaluate(X\u001b[39m=\u001b[39mtrain_data_X, y\u001b[39m=\u001b[39mtrain_data_y, tree_copy\u001b[39m=\u001b[39mdeepcopy(decision_tree\u001b[39m.\u001b[39mtree))\n\u001b[1;32m     12\u001b[0m split_accs_train\u001b[39m.\u001b[39mappend(accuracy_train)\n",
      "File \u001b[0;32m~/Desktop/PW/Sem7/WSI/wsi22Z-kuc/lab4/src/my_solver.py:34\u001b[0m, in \u001b[0;36mID3Tree.fit\u001b[0;34m(self, X, y, label)\u001b[0m\n\u001b[1;32m     32\u001b[0m \u001b[39mself\u001b[39m\u001b[39m.\u001b[39mclasses \u001b[39m=\u001b[39m train_data[label]\u001b[39m.\u001b[39munique()\n\u001b[1;32m     33\u001b[0m tree \u001b[39m=\u001b[39m deepcopy(\u001b[39mself\u001b[39m\u001b[39m.\u001b[39mtree)\n\u001b[0;32m---> 34\u001b[0m \u001b[39mself\u001b[39;49m\u001b[39m.\u001b[39;49mid3(tree, \u001b[39mNone\u001b[39;49;00m, train_data_copy, current_depth\u001b[39m=\u001b[39;49m\u001b[39m0\u001b[39;49m)\n\u001b[1;32m     36\u001b[0m \u001b[39mself\u001b[39m\u001b[39m.\u001b[39mtree \u001b[39m=\u001b[39m tree\n",
      "File \u001b[0;32m~/Desktop/PW/Sem7/WSI/wsi22Z-kuc/lab4/src/my_solver.py:182\u001b[0m, in \u001b[0;36mID3Tree.id3\u001b[0;34m(self, node, prev_attr_value, data_part, current_depth)\u001b[0m\n\u001b[1;32m    180\u001b[0m \u001b[39mif\u001b[39;00m current_depth \u001b[39m<\u001b[39m \u001b[39mself\u001b[39m\u001b[39m.\u001b[39mmax_depth:\n\u001b[1;32m    181\u001b[0m   current_depth \u001b[39m+\u001b[39m\u001b[39m=\u001b[39m \u001b[39m1\u001b[39m\n\u001b[0;32m--> 182\u001b[0m   \u001b[39mself\u001b[39;49m\u001b[39m.\u001b[39;49mid3(new_node, attr_value, attr_value_data, current_depth)\n\u001b[1;32m    183\u001b[0m \u001b[39melse\u001b[39;00m:\n\u001b[1;32m    184\u001b[0m   \u001b[39m# count most labels\u001b[39;00m\n\u001b[1;32m    185\u001b[0m   class_count_dict \u001b[39m=\u001b[39m attr_value_data[\u001b[39mself\u001b[39m\u001b[39m.\u001b[39mlabel]\u001b[39m.\u001b[39mvalue_counts(sort\u001b[39m=\u001b[39m\u001b[39mTrue\u001b[39;00m)\n",
      "File \u001b[0;32m~/Desktop/PW/Sem7/WSI/wsi22Z-kuc/lab4/src/my_solver.py:182\u001b[0m, in \u001b[0;36mID3Tree.id3\u001b[0;34m(self, node, prev_attr_value, data_part, current_depth)\u001b[0m\n\u001b[1;32m    180\u001b[0m \u001b[39mif\u001b[39;00m current_depth \u001b[39m<\u001b[39m \u001b[39mself\u001b[39m\u001b[39m.\u001b[39mmax_depth:\n\u001b[1;32m    181\u001b[0m   current_depth \u001b[39m+\u001b[39m\u001b[39m=\u001b[39m \u001b[39m1\u001b[39m\n\u001b[0;32m--> 182\u001b[0m   \u001b[39mself\u001b[39;49m\u001b[39m.\u001b[39;49mid3(new_node, attr_value, attr_value_data, current_depth)\n\u001b[1;32m    183\u001b[0m \u001b[39melse\u001b[39;00m:\n\u001b[1;32m    184\u001b[0m   \u001b[39m# count most labels\u001b[39;00m\n\u001b[1;32m    185\u001b[0m   class_count_dict \u001b[39m=\u001b[39m attr_value_data[\u001b[39mself\u001b[39m\u001b[39m.\u001b[39mlabel]\u001b[39m.\u001b[39mvalue_counts(sort\u001b[39m=\u001b[39m\u001b[39mTrue\u001b[39;00m)\n",
      "    \u001b[0;31m[... skipping similar frames: ID3Tree.id3 at line 182 (1 times)]\u001b[0m\n",
      "File \u001b[0;32m~/Desktop/PW/Sem7/WSI/wsi22Z-kuc/lab4/src/my_solver.py:182\u001b[0m, in \u001b[0;36mID3Tree.id3\u001b[0;34m(self, node, prev_attr_value, data_part, current_depth)\u001b[0m\n\u001b[1;32m    180\u001b[0m \u001b[39mif\u001b[39;00m current_depth \u001b[39m<\u001b[39m \u001b[39mself\u001b[39m\u001b[39m.\u001b[39mmax_depth:\n\u001b[1;32m    181\u001b[0m   current_depth \u001b[39m+\u001b[39m\u001b[39m=\u001b[39m \u001b[39m1\u001b[39m\n\u001b[0;32m--> 182\u001b[0m   \u001b[39mself\u001b[39;49m\u001b[39m.\u001b[39;49mid3(new_node, attr_value, attr_value_data, current_depth)\n\u001b[1;32m    183\u001b[0m \u001b[39melse\u001b[39;00m:\n\u001b[1;32m    184\u001b[0m   \u001b[39m# count most labels\u001b[39;00m\n\u001b[1;32m    185\u001b[0m   class_count_dict \u001b[39m=\u001b[39m attr_value_data[\u001b[39mself\u001b[39m\u001b[39m.\u001b[39mlabel]\u001b[39m.\u001b[39mvalue_counts(sort\u001b[39m=\u001b[39m\u001b[39mTrue\u001b[39;00m)\n",
      "File \u001b[0;32m~/Desktop/PW/Sem7/WSI/wsi22Z-kuc/lab4/src/my_solver.py:164\u001b[0m, in \u001b[0;36mID3Tree.id3\u001b[0;34m(self, node, prev_attr_value, data_part, current_depth)\u001b[0m\n\u001b[1;32m    159\u001b[0m best_attr \u001b[39m=\u001b[39m \u001b[39mself\u001b[39m\u001b[39m.\u001b[39mfind_best_attr(data_part)\n\u001b[1;32m    161\u001b[0m \u001b[39m# print(f'current depth= {current_depth}, max_depth= {self.max_depth}, best_attr: {best_attr}')\u001b[39;00m\n\u001b[1;32m    162\u001b[0m \n\u001b[1;32m    163\u001b[0m \u001b[39m# create subtree for given attribute in node\u001b[39;00m\n\u001b[0;32m--> 164\u001b[0m attr_tree, data_part \u001b[39m=\u001b[39m \u001b[39mself\u001b[39;49m\u001b[39m.\u001b[39;49msubtree(best_attr, data_part)\n\u001b[1;32m    166\u001b[0m \u001b[39m# check if node is not starting root of tree\u001b[39;00m\n\u001b[1;32m    167\u001b[0m \u001b[39mif\u001b[39;00m prev_attr_value \u001b[39m!=\u001b[39m \u001b[39mNone\u001b[39;00m:\n",
      "File \u001b[0;32m~/Desktop/PW/Sem7/WSI/wsi22Z-kuc/lab4/src/my_solver.py:137\u001b[0m, in \u001b[0;36mID3Tree.subtree\u001b[0;34m(self, attr_name, data_part)\u001b[0m\n\u001b[1;32m    132\u001b[0m is_leaf \u001b[39m=\u001b[39m \u001b[39mFalse\u001b[39;00m\n\u001b[1;32m    134\u001b[0m \u001b[39mfor\u001b[39;00m c \u001b[39min\u001b[39;00m \u001b[39mself\u001b[39m\u001b[39m.\u001b[39mclasses:\n\u001b[1;32m    135\u001b[0m   \u001b[39m# count class occurances for given attribute\u001b[39;00m\n\u001b[1;32m    136\u001b[0m   \u001b[39m# in records where given attribute has given value\u001b[39;00m\n\u001b[0;32m--> 137\u001b[0m   class_count \u001b[39m=\u001b[39m attr_value_data[attr_value_data[\u001b[39mself\u001b[39;49m\u001b[39m.\u001b[39;49mlabel] \u001b[39m==\u001b[39;49m c]\u001b[39m.\u001b[39mshape[\u001b[39m0\u001b[39m]\n\u001b[1;32m    139\u001b[0m   \u001b[39m# value_count means occurances of given attr value in dataset\u001b[39;00m\n\u001b[1;32m    140\u001b[0m   \u001b[39m# if statement below is True, we've found node with pure class\u001b[39;00m\n\u001b[1;32m    141\u001b[0m   \u001b[39mif\u001b[39;00m class_count \u001b[39m==\u001b[39m value_count:\n\u001b[1;32m    142\u001b[0m     \u001b[39m# save pure class node\u001b[39;00m\n",
      "File \u001b[0;32m~/Library/Python/3.9/lib/python/site-packages/pandas/core/ops/common.py:72\u001b[0m, in \u001b[0;36m_unpack_zerodim_and_defer.<locals>.new_method\u001b[0;34m(self, other)\u001b[0m\n\u001b[1;32m     68\u001b[0m             \u001b[39mreturn\u001b[39;00m \u001b[39mNotImplemented\u001b[39m\n\u001b[1;32m     70\u001b[0m other \u001b[39m=\u001b[39m item_from_zerodim(other)\n\u001b[0;32m---> 72\u001b[0m \u001b[39mreturn\u001b[39;00m method(\u001b[39mself\u001b[39;49m, other)\n",
      "File \u001b[0;32m~/Library/Python/3.9/lib/python/site-packages/pandas/core/arraylike.py:43\u001b[0m, in \u001b[0;36mOpsMixin.__eq__\u001b[0;34m(self, other)\u001b[0m\n\u001b[1;32m     41\u001b[0m \u001b[39m@unpack_zerodim_and_defer\u001b[39m(\u001b[39m\"\u001b[39m\u001b[39m__eq__\u001b[39m\u001b[39m\"\u001b[39m)\n\u001b[1;32m     42\u001b[0m \u001b[39mdef\u001b[39;00m \u001b[39m__eq__\u001b[39m(\u001b[39mself\u001b[39m, other):\n\u001b[0;32m---> 43\u001b[0m     \u001b[39mreturn\u001b[39;00m \u001b[39mself\u001b[39;49m\u001b[39m.\u001b[39;49m_cmp_method(other, operator\u001b[39m.\u001b[39;49meq)\n",
      "File \u001b[0;32m~/Library/Python/3.9/lib/python/site-packages/pandas/core/series.py:6248\u001b[0m, in \u001b[0;36mSeries._cmp_method\u001b[0;34m(self, other, op)\u001b[0m\n\u001b[1;32m   6245\u001b[0m \u001b[39mwith\u001b[39;00m np\u001b[39m.\u001b[39merrstate(\u001b[39mall\u001b[39m\u001b[39m=\u001b[39m\u001b[39m\"\u001b[39m\u001b[39mignore\u001b[39m\u001b[39m\"\u001b[39m):\n\u001b[1;32m   6246\u001b[0m     res_values \u001b[39m=\u001b[39m ops\u001b[39m.\u001b[39mcomparison_op(lvalues, rvalues, op)\n\u001b[0;32m-> 6248\u001b[0m \u001b[39mreturn\u001b[39;00m \u001b[39mself\u001b[39;49m\u001b[39m.\u001b[39;49m_construct_result(res_values, name\u001b[39m=\u001b[39;49mres_name)\n",
      "File \u001b[0;32m~/Library/Python/3.9/lib/python/site-packages/pandas/core/series.py:3226\u001b[0m, in \u001b[0;36mSeries._construct_result\u001b[0;34m(self, result, name)\u001b[0m\n\u001b[1;32m   3222\u001b[0m     \u001b[39mreturn\u001b[39;00m (res1, res2)\n\u001b[1;32m   3224\u001b[0m \u001b[39m# We do not pass dtype to ensure that the Series constructor\u001b[39;00m\n\u001b[1;32m   3225\u001b[0m \u001b[39m#  does inference in the case where `result` has object-dtype.\u001b[39;00m\n\u001b[0;32m-> 3226\u001b[0m out \u001b[39m=\u001b[39m \u001b[39mself\u001b[39;49m\u001b[39m.\u001b[39;49m_constructor(result, index\u001b[39m=\u001b[39;49m\u001b[39mself\u001b[39;49m\u001b[39m.\u001b[39;49mindex)\n\u001b[1;32m   3227\u001b[0m out \u001b[39m=\u001b[39m out\u001b[39m.\u001b[39m__finalize__(\u001b[39mself\u001b[39m)\n\u001b[1;32m   3229\u001b[0m \u001b[39m# Set the result's name after __finalize__ is called because __finalize__\u001b[39;00m\n\u001b[1;32m   3230\u001b[0m \u001b[39m#  would set it back to self.name\u001b[39;00m\n",
      "File \u001b[0;32m~/Library/Python/3.9/lib/python/site-packages/pandas/core/series.py:473\u001b[0m, in \u001b[0;36mSeries.__init__\u001b[0;34m(self, data, index, dtype, name, copy, fastpath)\u001b[0m\n\u001b[1;32m    470\u001b[0m \u001b[39melse\u001b[39;00m:\n\u001b[1;32m    471\u001b[0m     data \u001b[39m=\u001b[39m sanitize_array(data, index, dtype, copy)\n\u001b[0;32m--> 473\u001b[0m     manager \u001b[39m=\u001b[39m get_option(\u001b[39m\"\u001b[39;49m\u001b[39mmode.data_manager\u001b[39;49m\u001b[39m\"\u001b[39;49m)\n\u001b[1;32m    474\u001b[0m     \u001b[39mif\u001b[39;00m manager \u001b[39m==\u001b[39m \u001b[39m\"\u001b[39m\u001b[39mblock\u001b[39m\u001b[39m\"\u001b[39m:\n\u001b[1;32m    475\u001b[0m         data \u001b[39m=\u001b[39m SingleBlockManager\u001b[39m.\u001b[39mfrom_array(data, index)\n",
      "File \u001b[0;32m~/Library/Python/3.9/lib/python/site-packages/pandas/_config/config.py:264\u001b[0m, in \u001b[0;36mCallableDynamicDoc.__call__\u001b[0;34m(self, *args, **kwds)\u001b[0m\n\u001b[1;32m    263\u001b[0m \u001b[39mdef\u001b[39;00m \u001b[39m__call__\u001b[39m(\u001b[39mself\u001b[39m, \u001b[39m*\u001b[39margs, \u001b[39m*\u001b[39m\u001b[39m*\u001b[39mkwds) \u001b[39m-\u001b[39m\u001b[39m>\u001b[39m T:\n\u001b[0;32m--> 264\u001b[0m     \u001b[39mreturn\u001b[39;00m \u001b[39mself\u001b[39;49m\u001b[39m.\u001b[39;49m\u001b[39m__func__\u001b[39;49m(\u001b[39m*\u001b[39;49margs, \u001b[39m*\u001b[39;49m\u001b[39m*\u001b[39;49mkwds)\n",
      "File \u001b[0;32m~/Library/Python/3.9/lib/python/site-packages/pandas/_config/config.py:136\u001b[0m, in \u001b[0;36m_get_option\u001b[0;34m(pat, silent)\u001b[0m\n\u001b[1;32m    135\u001b[0m \u001b[39mdef\u001b[39;00m \u001b[39m_get_option\u001b[39m(pat: \u001b[39mstr\u001b[39m, silent: \u001b[39mbool\u001b[39m \u001b[39m=\u001b[39m \u001b[39mFalse\u001b[39;00m) \u001b[39m-\u001b[39m\u001b[39m>\u001b[39m Any:\n\u001b[0;32m--> 136\u001b[0m     key \u001b[39m=\u001b[39m _get_single_key(pat, silent)\n\u001b[1;32m    138\u001b[0m     \u001b[39m# walk the nested dict\u001b[39;00m\n\u001b[1;32m    139\u001b[0m     root, k \u001b[39m=\u001b[39m _get_root(key)\n",
      "File \u001b[0;32m~/Library/Python/3.9/lib/python/site-packages/pandas/_config/config.py:128\u001b[0m, in \u001b[0;36m_get_single_key\u001b[0;34m(pat, silent)\u001b[0m\n\u001b[1;32m    125\u001b[0m key \u001b[39m=\u001b[39m keys[\u001b[39m0\u001b[39m]\n\u001b[1;32m    127\u001b[0m \u001b[39mif\u001b[39;00m \u001b[39mnot\u001b[39;00m silent:\n\u001b[0;32m--> 128\u001b[0m     _warn_if_deprecated(key)\n\u001b[1;32m    130\u001b[0m key \u001b[39m=\u001b[39m _translate_key(key)\n\u001b[1;32m    132\u001b[0m \u001b[39mreturn\u001b[39;00m key\n",
      "\u001b[0;31mKeyboardInterrupt\u001b[0m: "
     ]
    }
   ],
   "source": [
    "for i in range(SPLITS):\n",
    "  train_data_X, train_data_y, valid_data_X, valid_data_y, test_data_X, test_data_y = dataset_split(dataset, label)\n",
    "  split_accs_train = []\n",
    "  split_accs_valid = []\n",
    "  for depth in DEPTHS:\n",
    "    print(f'Split nr: {i}, depth={depth}:')\n",
    "    decision_tree = ID3Tree(max_depth=depth)\n",
    "    \n",
    "    decision_tree.fit(X=train_data_X, y=train_data_y, label=label)\n",
    "    \n",
    "    accuracy_train = decision_tree.evaluate(X=train_data_X, y=train_data_y, tree_copy=deepcopy(decision_tree.tree))\n",
    "    split_accs_train.append(accuracy_train)\n",
    "    print(f'Accuracy train: {accuracy_train}')\n",
    "    \n",
    "    accuracy_valid = decision_tree.evaluate(X=valid_data_X, y=valid_data_y, tree_copy=deepcopy(decision_tree.tree))\n",
    "    split_accs_valid.append(accuracy_valid)\n",
    "    print(f'Accuracy valid: {accuracy_valid}')\n",
    "    print('------------')\n",
    "    \n",
    "    save_params.append(decision_tree.get_parameters())\n",
    "    \n",
    "  mean_accs_train.append(mean(split_accs_train))\n",
    "  mean_accs_valid.append(mean(split_accs_valid))\n",
    "  print(f'Mean accs for depth={depth} (train, valid): {mean_accs_train}, {mean_accs_valid}')"
   ]
  },
  {
   "cell_type": "code",
   "execution_count": null,
   "metadata": {},
   "outputs": [],
   "source": [
    "plt.figure()\n",
    "plt.plot(range(1, SPLITS+1), mean_accs_train, 'b', label='training data')\n",
    "plt.plot(range(1, SPLITS+1), mean_accs_valid, 'r', label='validation data')\n",
    "plt.legend(loc='upper left')\n",
    "plt.xlabel('max depths')\n",
    "plt.ylabel('accuracy')\n",
    "# plt.xlim(DEPTHS[0], DEPTHS[-1])\n",
    "# plt.ylim(0, 1)\n",
    "plt.show()"
   ]
  },
  {
   "cell_type": "code",
   "execution_count": null,
   "metadata": {},
   "outputs": [],
   "source": [
    "print(len(save_params))\n",
    "for params in save_params:\n",
    "  # print(params['max_depth'])\n",
    "  # print('\\n')\n",
    "  # pprint.pprint(params['tree'], indent=1)\n",
    "  print(params)\n",
    "  print('\\n\\n')"
   ]
  }
 ],
 "metadata": {
  "kernelspec": {
   "display_name": "Python 3.9.6 64-bit",
   "language": "python",
   "name": "python3"
  },
  "language_info": {
   "codemirror_mode": {
    "name": "ipython",
    "version": 3
   },
   "file_extension": ".py",
   "mimetype": "text/x-python",
   "name": "python",
   "nbconvert_exporter": "python",
   "pygments_lexer": "ipython3",
   "version": "3.9.6"
  },
  "orig_nbformat": 4,
  "vscode": {
   "interpreter": {
    "hash": "31f2aee4e71d21fbe5cf8b01ff0e069b9275f58929596ceb00d14d90e3e16cd6"
   }
  }
 },
 "nbformat": 4,
 "nbformat_minor": 2
}
